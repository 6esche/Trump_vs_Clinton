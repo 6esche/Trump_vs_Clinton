{
 "cells": [
  {
   "cell_type": "markdown",
   "metadata": {
    "toc": true
   },
   "source": [
    "<h1>Table of Contents<span class=\"tocSkip\"></span></h1>\n",
    "<div class=\"toc\"><ul class=\"toc-item\"><li><span><a href=\"#Focus-and-Overview\" data-toc-modified-id=\"Focus-and-Overview-1\"><span class=\"toc-item-num\">1&nbsp;&nbsp;</span>Focus and Overview</a></span><ul class=\"toc-item\"><li><span><a href=\"#Questions\" data-toc-modified-id=\"Questions-1.1\"><span class=\"toc-item-num\">1.1&nbsp;&nbsp;</span>Questions</a></span><ul class=\"toc-item\"><li><span><a href=\"#1.-Trump-vs.-Clinton\" data-toc-modified-id=\"1.-Trump-vs.-Clinton-1.1.1\"><span class=\"toc-item-num\">1.1.1&nbsp;&nbsp;</span>1. Trump vs. Clinton</a></span></li></ul></li><li><span><a href=\"#Overview\" data-toc-modified-id=\"Overview-1.2\"><span class=\"toc-item-num\">1.2&nbsp;&nbsp;</span>Overview</a></span><ul class=\"toc-item\"><li><span><a href=\"#Introduction-(a)\" data-toc-modified-id=\"Introduction-(a)-1.2.1\"><span class=\"toc-item-num\">1.2.1&nbsp;&nbsp;</span>Introduction (a)</a></span></li><li><span><a href=\"#Cleaning-(a)\" data-toc-modified-id=\"Cleaning-(a)-1.2.2\"><span class=\"toc-item-num\">1.2.2&nbsp;&nbsp;</span>Cleaning (a)</a></span></li><li><span><a href=\"#EDA-(c)\" data-toc-modified-id=\"EDA-(c)-1.2.3\"><span class=\"toc-item-num\">1.2.3&nbsp;&nbsp;</span>EDA (c)</a></span></li><li><span><a href=\"#Predictive-Modelling-(b)\" data-toc-modified-id=\"Predictive-Modelling-(b)-1.2.4\"><span class=\"toc-item-num\">1.2.4&nbsp;&nbsp;</span>Predictive Modelling (b)</a></span></li></ul></li></ul></li></ul></div>"
   ]
  },
  {
   "cell_type": "markdown",
   "metadata": {},
   "source": [
    "# Focus and Overview"
   ]
  },
  {
   "cell_type": "markdown",
   "metadata": {},
   "source": [
    "---"
   ]
  },
  {
   "cell_type": "markdown",
   "metadata": {},
   "source": [
    "## Questions\n",
    "\n",
    "### 1. Trump vs. Clinton\n",
    "What seperates voters for Hillary Clinton to voters for Donald Trump?\n",
    "    - other categories: voters for other candidates, non-voters\n",
    "\n",
    "Additional\n",
    "2. voters vs. non-voters\n",
    "What seperates voters and non-voters?"
   ]
  },
  {
   "cell_type": "markdown",
   "metadata": {},
   "source": [
    "---"
   ]
  },
  {
   "cell_type": "markdown",
   "metadata": {},
   "source": [
    "## Overview"
   ]
  },
  {
   "cell_type": "markdown",
   "metadata": {},
   "source": [
    "### Introduction (a)"
   ]
  },
  {
   "cell_type": "code",
   "execution_count": 1,
   "metadata": {
    "ExecuteTime": {
     "end_time": "2020-01-19T21:49:49.585773Z",
     "start_time": "2020-01-19T21:49:18.257565Z"
    }
   },
   "outputs": [],
   "source": [
    "%%capture\n",
    "%run ./a1_introduction.ipynb"
   ]
  },
  {
   "cell_type": "markdown",
   "metadata": {},
   "source": [
    "### Cleaning (a)"
   ]
  },
  {
   "cell_type": "code",
   "execution_count": 1,
   "metadata": {},
   "outputs": [
    {
     "name": "stdout",
     "output_type": "stream",
     "text": [
      "<class 'pandas.core.frame.DataFrame'>\n",
      "Int64Index: 64600 entries, 0 to 64599\n",
      "Columns: 563 entries, V101 to dmaname\n",
      "dtypes: datetime64[ns](4), float64(316), int16(1), int32(1), int8(50), object(191)\n",
      "memory usage: 255.8+ MB\n",
      "NaN                               63085\n",
      "Hillary Clinton (Democrat)          831\n",
      "Donald Trump (Republican)           478\n",
      "Gary Johnson (Libertarian)           85\n",
      "Other                                45\n",
      "Jill Stein (Green)                   40\n",
      "I'm not sure                         25\n",
      "I didn't vote in this election       11\n",
      "Name: CC16_364b, dtype: int64\n",
      " \n",
      "tookpost                         No  Yes\n",
      "CC16_364b                               \n",
      "Donald Trump (Republican)        71  407\n",
      "Hillary Clinton (Democrat)      128  703\n",
      "Gary Johnson (Libertarian)       29   56\n",
      "Jill Stein (Green)               11   29\n",
      "Other                             8   37\n",
      "I didn't vote in this election    8    3\n",
      "I'm not sure                      9   16\n",
      "Hillary Clinton (Democrat)        22136\n",
      "NaN                               19358\n",
      "Donald Trump (Republican)         18755\n",
      "Gary Johnson (Libertarian)         1829\n",
      "Other                              1136\n",
      "Jill Stein (Green)                  913\n",
      "I'm not sure                        229\n",
      "Evan McMullin (Independent)         163\n",
      "I didn't vote in this election       81\n",
      "Name: CC16_410a, dtype: int64\n",
      " \n",
      "CC16_401                        1.0  2.0  3.0  4.0    5.0\n",
      "CC16_410a                                                \n",
      "Donald Trump (Republican)         0    0    0    0  18755\n",
      "Hillary Clinton (Democrat)        0    0    0    0  22136\n",
      "Gary Johnson (Libertarian)        0    0    0    0   1829\n",
      "Jill Stein (Green)                0    0    0    0    913\n",
      "Other                             0    0    0    0   1136\n",
      "I didn't vote in this election    0    0    0    0     81\n",
      "I'm not sure                      0    0    0    0    229\n",
      "Evan McMullin (Independent)       0    0    0    0    163\n",
      " \n",
      "I definitely voted in the General Election.      45292\n",
      "NaN                                              15515\n",
      "I did not vote in the election this November.     1802\n",
      "I usually vote, but didn't this time.              754\n",
      "I thought about voting this time - but didn't      750\n",
      "I attempted to vote but did not or could not.      487\n",
      "Name: CC16_401, dtype: int64\n",
      "2.0    22136\n",
      "1.0    18755\n",
      "3.0     1829\n",
      "5.0     1136\n",
      "4.0      913\n",
      "7.0      229\n",
      "8.0      163\n",
      "6.0       81\n",
      "NaN       50\n",
      "Name: CC16_410a, dtype: int64\n",
      "Yes    52899\n",
      "No     11701\n",
      "Name: tookpost, dtype: int64\n",
      "No            3725\n",
      "Yes             84\n",
      "Don't know       5\n",
      "Name: votereg_post, dtype: int64\n",
      "In person on election day                24462\n",
      "NaN                                      18899\n",
      "Voted by mail (or absentee)              11020\n",
      "In person before election day (early)     9929\n",
      "Don't know                                 290\n",
      "Name: CC16_403, dtype: int64\n",
      "\n",
      "1.0     24462\n",
      "NaN     11843\n",
      "3.0     11020\n",
      "2.0      9929\n",
      "99.0     7056\n",
      "4.0       290\n",
      "Name: CC16_403, dtype: int64\n",
      "Democrat       20270\n",
      "Independent    15787\n",
      "Republican     14245\n",
      "NaN            11703\n",
      "Other           2595\n",
      "Name: CC16_421a, dtype: int64\n",
      "1.0    20270\n",
      "3.0    18142\n",
      "2.0    14245\n",
      "NaN    11703\n",
      "4.0      240\n",
      "Name: pid3_post, dtype: int64\n",
      "1.0    13036\n",
      "NaN    11709\n",
      "4.0     8158\n",
      "7.0     7845\n",
      "2.0     7237\n",
      "6.0     6398\n",
      "5.0     4728\n",
      "3.0     4653\n",
      "8.0      836\n",
      "Name: pid7_post, dtype: int64\n",
      "1.0    28570\n",
      "2.0    24266\n",
      "NaN    11764\n",
      "Name: CC16_425a, dtype: int64\n",
      "NaN    36029\n",
      "2.0    22723\n",
      "1.0     5848\n",
      "Name: CC416_25b_1, dtype: int64\n",
      "Broadband    60782\n",
      "None          2653\n",
      "Dial-up        968\n",
      "NaN            197\n",
      "Name: internethome, dtype: int64\n",
      "Broadband    39317\n",
      "None         23236\n",
      "NaN           1247\n",
      "Dial-up        800\n",
      "Name: internetwork, dtype: int64\n",
      "Heterosexual / straight    50942\n",
      "NaN                         7713\n",
      "Bisexual                    1853\n",
      "Gay man                     1638\n",
      "Prefer not to say           1208\n",
      "Lesbian / gay woman          688\n",
      "Other                        558\n",
      "Name: sexuality, dtype: int64\n",
      "2.0    54497\n",
      "NaN     8320\n",
      "1.0     1041\n",
      "3.0      742\n",
      "Name: trans, dtype: int64\n",
      "count    62757.000000\n",
      "mean        16.510620\n",
      "std         15.317908\n",
      "min          0.000000\n",
      "25%          4.000000\n",
      "50%         12.000000\n",
      "75%         25.000000\n",
      "max        100.000000\n",
      "Name: citylength_1, dtype: float64\n",
      "CC16_361           98\n",
      "citylength_1     1843\n",
      "citylength_2    12312\n",
      "dtype: int64\n",
      "CC16_361           98\n",
      "citylength_1      251\n",
      "citylength_2    12312\n",
      "dtype: int64\n",
      "CC16_361           98\n",
      "citylength_1        3\n",
      "citylength_2    12312\n",
      "dtype: int64\n",
      "Other Services (except Public Administration)       8741\n",
      "NaN                                                 8571\n",
      " Health Care and Social Assistance                  5530\n",
      " Education Services                                 5325\n",
      "Retail Trade                                        5090\n",
      "Professional, Scientific, and Technical Services    4428\n",
      "Manufacturing                                       4159\n",
      "Administrative and Support                          3425\n",
      "Finance  and Insurance                              2774\n",
      "Construction                                        2410\n",
      "Hotel Accommodation  and  Food Services             2342\n",
      "Transportation  and Warehousing                     2303\n",
      "Public Administration                               1916\n",
      "Information                                         1745\n",
      "Arts, Entertainment, and Recreation                 1644\n",
      "Real Estate and Rental and Leasing                   922\n",
      "Utilities                                            748\n",
      "Management of Companies and Enterprises              739\n",
      "Wholesale Trade                                      712\n",
      "Agriculture                                          572\n",
      "Waste Management and Remediation Services            143\n",
      "Mining                                               135\n",
      "Forestry                                             118\n",
      "Fishing and Hunting                                  108\n",
      "Name: industryclass, dtype: int64\n",
      "Democratic Party                           24084\n",
      "No Party, Independent, Decline to state    15980\n",
      "Republican Party                           15908\n",
      "NaN                                         7607\n",
      "Other                                       1021\n",
      "Name: CC16_360, dtype: int64\n",
      "(64600, 568)\n"
     ]
    },
    {
     "name": "stderr",
     "output_type": "stream",
     "text": [
      "/Users/geschew/anaconda3/lib/python3.7/site-packages/pandas/core/indexing.py:1418: FutureWarning: \n",
      "Passing list-likes to .loc or [] with any missing label will raise\n",
      "KeyError in the future, you can use .reindex() as an alternative.\n",
      "\n",
      "See the documentation here:\n",
      "https://pandas.pydata.org/pandas-docs/stable/user_guide/indexing.html#deprecate-loc-reindex-listlike\n",
      "  return self._getitem_tuple(key)\n"
     ]
    },
    {
     "name": "stdout",
     "output_type": "stream",
     "text": [
      "<class 'pandas.core.frame.DataFrame'>\n",
      "Int64Index: 52531 entries, 0 to 64453\n",
      "Columns: 160 entries, voted to early\n",
      "dtypes: float64(111), int16(1), int64(2), int8(40), object(6)\n",
      "memory usage: 50.2+ MB\n"
     ]
    }
   ],
   "source": [
    "%%capture\n",
    "%run ./a2_cleaning.ipynb"
   ]
  },
  {
   "cell_type": "markdown",
   "metadata": {},
   "source": [
    "### EDA (c)"
   ]
  },
  {
   "cell_type": "code",
   "execution_count": null,
   "metadata": {
    "ExecuteTime": {
     "end_time": "2020-01-11T02:38:24.215284Z",
     "start_time": "2020-01-11T02:38:23.484246Z"
    }
   },
   "outputs": [],
   "source": [
    "#%%capture\n",
    "%run ./c1_eda.ipynb"
   ]
  },
  {
   "cell_type": "markdown",
   "metadata": {},
   "source": [
    "### Predictive Modelling (b)"
   ]
  },
  {
   "cell_type": "code",
   "execution_count": null,
   "metadata": {},
   "outputs": [],
   "source": [
    "# a more detailed prediction\n",
    "\n",
    "#%%capture\n",
    "%run ./b1_forest.ipynb"
   ]
  },
  {
   "cell_type": "code",
   "execution_count": null,
   "metadata": {},
   "outputs": [],
   "source": [
    "# this includes a demo with tkinder\n",
    "\n",
    "#%%capture\n",
    "%run ./c3_forest_demo.ipynb"
   ]
  },
  {
   "cell_type": "markdown",
   "metadata": {},
   "source": [
    "---"
   ]
  },
  {
   "cell_type": "code",
   "execution_count": null,
   "metadata": {},
   "outputs": [],
   "source": []
  }
 ],
 "metadata": {
  "kernelspec": {
   "display_name": "Python 3",
   "language": "python",
   "name": "python3"
  },
  "language_info": {
   "codemirror_mode": {
    "name": "ipython",
    "version": 3
   },
   "file_extension": ".py",
   "mimetype": "text/x-python",
   "name": "python",
   "nbconvert_exporter": "python",
   "pygments_lexer": "ipython3",
   "version": "3.7.4"
  },
  "toc": {
   "base_numbering": 1,
   "nav_menu": {},
   "number_sections": true,
   "sideBar": true,
   "skip_h1_title": false,
   "title_cell": "Table of Contents",
   "title_sidebar": "Contents",
   "toc_cell": true,
   "toc_position": {},
   "toc_section_display": true,
   "toc_window_display": false
  }
 },
 "nbformat": 4,
 "nbformat_minor": 2
}
